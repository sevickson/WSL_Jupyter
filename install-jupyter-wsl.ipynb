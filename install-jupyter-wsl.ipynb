{
 "cells": [
  {
   "cell_type": "markdown",
   "metadata": {},
   "source": [
    "# Windows Subsystem for Linux lab🧪 for near simultaneous🔁 Jupyter Notebook📓 development\n",
    "\n",
    "* **Author:** Sevickson Kwidama \n",
    "    * [Twitter](https://twitter.com/SKwid345)\n",
    "    * [LinkedIn](https://nl.linkedin.com/in/sevickson)\n",
    "    * [GitHub Repo](https://github.com/sevickson/wsl_jupyter)\n",
    "* **Version:** 0.4\n",
    "\n",
    "I developed this Notebook to be able to deploy a WSL Linux Distribution ready for Jupyter Notebook development.  \n",
    "I use it in Visual Studio Code but this Notebook can also be run in Jupyter Lab.\n",
    "\n",
    "This repo is divided in the [Notebook](install-jupyter-wsl.ipynb) itself and the `req` folder where the functions and other requirements are placed."
   ]
  },
  {
   "cell_type": "markdown",
   "metadata": {},
   "source": [
    "## Load functions and imports\n",
    "To be certain I always start with an upgrade check of `pip`.  \n",
    "And get the needed dependencies if any, only need to be run once.  \n",
    "\n",
    "On some systems *Python* can be called by using `python3` or `python`, this is the reason for the extra check below."
   ]
  },
  {
   "cell_type": "code",
   "execution_count": null,
   "metadata": {
    "tags": []
   },
   "outputs": [],
   "source": [
    "import shutil\n",
    "if shutil.which(\"python3\") is None:\n",
    "    !python -m pip install --upgrade --user pip\n",
    "    !python -m pip install --upgrade --user -r req\\/Requirements.txt \n",
    "else:\n",
    "    !python3 -m pip install --upgrade --user pip\n",
    "    !python3 -m pip install --upgrade --user -r req\\/Requirements.txt "
   ]
  },
  {
   "cell_type": "markdown",
   "metadata": {},
   "source": [
    "I put most of the functions in a separate Notebook to make this original one shorter and more readable.  \n",
    "By using `%run` I can import all the functions and variables from the other Notebook in this one."
   ]
  },
  {
   "cell_type": "code",
   "execution_count": null,
   "metadata": {},
   "outputs": [],
   "source": [
    "%run req\\/Imports_Functions.ipynb"
   ]
  },
  {
   "cell_type": "markdown",
   "metadata": {},
   "source": [
    "## Install WSL"
   ]
  },
  {
   "cell_type": "markdown",
   "metadata": {},
   "source": [
    "### Below can be done with Administrator rights in the Notebook"
   ]
  },
  {
   "cell_type": "code",
   "execution_count": null,
   "metadata": {
    "tags": []
   },
   "outputs": [],
   "source": [
    "install_wsl()"
   ]
  },
  {
   "cell_type": "markdown",
   "metadata": {},
   "source": [
    "If you get following message at the end  \n",
    " `WSL 2 requires an update to its kernel component. For information please visit https://aka.ms/wsl2kernel`  \n",
    "Please run the code below.  \n",
    "When finished errors should dissapear."
   ]
  },
  {
   "cell_type": "code",
   "execution_count": null,
   "metadata": {
    "tags": []
   },
   "outputs": [],
   "source": [
    "update_wsl2()"
   ]
  },
  {
   "cell_type": "markdown",
   "metadata": {},
   "source": [
    "## Use WSL"
   ]
  },
  {
   "cell_type": "markdown",
   "metadata": {},
   "source": [
    "### Install new distros\n",
    "Choices are just a small subset, the complete list can be viewed in the [Windows Store] (https://aka.ms/wslstore) and direct links for download can be found [here](https://docs.microsoft.com/en-us/windows/wsl/install-manual).\n",
    "If you already downloaded and installed the distro you only need to register, if you try to install again you might get an error. Which would mean the Distro is already installed."
   ]
  },
  {
   "cell_type": "code",
   "execution_count": null,
   "metadata": {},
   "outputs": [],
   "source": [
    "@interact_manual\n",
    "def get_WSL_VM(Distro=list(wsl_df.Name)):\n",
    "    add_distro(Distro)"
   ]
  },
  {
   "cell_type": "markdown",
   "metadata": {},
   "source": [
    "### First run updates on the WSL VM image"
   ]
  },
  {
   "cell_type": "markdown",
   "metadata": {},
   "source": [
    "After running commands above the commands below need a normal notebook, not an admin"
   ]
  },
  {
   "cell_type": "code",
   "execution_count": null,
   "metadata": {
    "tags": []
   },
   "outputs": [],
   "source": [
    "!wsl --list --verbose"
   ]
  },
  {
   "cell_type": "code",
   "execution_count": null,
   "metadata": {},
   "outputs": [],
   "source": [
    "distro_dd = interactive(get_installed, Distro=installed_distro())\n",
    "display(distro_dd)"
   ]
  },
  {
   "cell_type": "code",
   "execution_count": null,
   "metadata": {},
   "outputs": [],
   "source": [
    "VM_Name = distro_dd.result\n",
    "VM_Name"
   ]
  },
  {
   "cell_type": "code",
   "execution_count": null,
   "metadata": {},
   "outputs": [],
   "source": [
    "username = 'user_jupyter'\n",
    "password = getpass.getpass()"
   ]
  },
  {
   "cell_type": "markdown",
   "metadata": {},
   "source": [
    "### Register Distro"
   ]
  },
  {
   "cell_type": "code",
   "execution_count": null,
   "metadata": {
    "tags": []
   },
   "outputs": [],
   "source": [
    "install_update_packages(VM_Name)"
   ]
  },
  {
   "cell_type": "code",
   "execution_count": null,
   "metadata": {},
   "outputs": [],
   "source": [
    "#create user with given password\n",
    "!wsl -d {VM_Name} useradd -m -p $(openssl passwd -1 {password}) -s /bin/bash {username}\n",
    "#add user to sudoers\n",
    "!wsl -d {VM_Name} usermod -aG sudo {username}\n",
    "#change user to new default user\n",
    "!{VM_Name} config --default-user {username}"
   ]
  },
  {
   "cell_type": "code",
   "execution_count": null,
   "metadata": {
    "tags": []
   },
   "outputs": [],
   "source": [
    "!wsl -d {VM_Name} echo {password} ^| sudo -S apt-get install -y python3 python3-pip  #ipython3\n",
    "#install it system-wide otherwise install without sudo but than you need to put the install location in PATH\n",
    "!wsl -d {VM_Name} echo {password} ^| sudo -S python3 -m pip install jupyter jupyterlab ipython #--user\n",
    "#Used to fix an issue with dependency prompt_toolkit (Debian)\n",
    "!wsl -d {VM_Name} python3 -m pip install --user --upgrade ipython"
   ]
  },
  {
   "cell_type": "code",
   "execution_count": null,
   "metadata": {
    "tags": []
   },
   "outputs": [],
   "source": [
    "!wsl -d {VM_Name} python3 --version\n",
    "!wsl -d {VM_Name} pip3 --version\n",
    "!wsl -d {VM_Name} jupyter --version"
   ]
  },
  {
   "cell_type": "code",
   "execution_count": null,
   "metadata": {
    "tags": []
   },
   "outputs": [],
   "source": [
    "!wsl -d {VM_Name} code ."
   ]
  },
  {
   "cell_type": "code",
   "execution_count": null,
   "metadata": {
    "tags": []
   },
   "outputs": [],
   "source": [
    "!wsl -d {VM_Name} jupyter lab --no-browser"
   ]
  },
  {
   "cell_type": "markdown",
   "metadata": {},
   "source": [
    "Install `Python` extensions through \"Extensions\"  \n",
    "Reload VS Code in WSL  \n",
    "Now if you want to open an ipynb it will ask for an interpreter   \n",
    "If you set the python interpreter in your linux env you will be able to use it  \n",
    "It seems you cannot run 2 VS codes next to each other, so if you want to use the WSL version the local version will not work  "
   ]
  },
  {
   "cell_type": "markdown",
   "metadata": {},
   "source": [
    "### Unregister Distro\n",
    "When you unregister it will not remove the distro, this makes it easier to enable again, just run the register step."
   ]
  },
  {
   "cell_type": "code",
   "execution_count": null,
   "metadata": {},
   "outputs": [],
   "source": [
    "distro_dd_unr = interactive(get_installed, Distro=installed_distro())\n",
    "display(distro_dd_unr)"
   ]
  },
  {
   "cell_type": "code",
   "execution_count": null,
   "metadata": {
    "tags": []
   },
   "outputs": [],
   "source": [
    "VM_Name_unr = distro_dd_unr.result\n",
    "!wsl --unregister {VM_Name_unr}"
   ]
  },
  {
   "cell_type": "markdown",
   "metadata": {},
   "source": [
    "https://docs.microsoft.com/en-us/windows/wsl/install-win10  \n",
    "\n",
    "https://medium.com/@harshityadav95/jupyter-notebook-in-windows-subsystem-for-linux-wsl-8b46fdf0a536  \n",
    "\n",
    "https://medium.com/@sayanghosh_49221/jupyter-notebook-in-windows-subsystem-for-linux-wsl-f075f7ec8691\n",
    "\n",
    "https://stackoverflow.com/questions/44996933/using-sudo-inside-jupyter-notebooks-cell  \n",
    "\n",
    "https://github.com/microsoft/WSL/issues/3284  \n",
    "\n",
    "https://docs.microsoft.com/en-us/windows/wsl/install-win10#update-to-wsl-2\n",
    "\n",
    "https://docs.microsoft.com/en-us/windows/wsl/install-manual\n",
    "\n",
    "https://www.tenforums.com/tutorials/128052-add-user-windows-subsystem-linux-wsl-distro-windows-10-a.html\n",
    "\n",
    "https://stackoverflow.com/questions/2150882/how-to-automatically-add-user-account-and-password-with-a-bash-script\n",
    "\n",
    "https://stackoverflow.com/questions/38883476/how-to-remove-those-x00-x00\n",
    "\n",
    "https://ipywidgets.readthedocs.io/en/latest/examples/Using%20Interact.html#interactive\n"
   ]
  },
  {
   "cell_type": "code",
   "execution_count": null,
   "metadata": {},
   "outputs": [],
   "source": []
  }
 ],
 "metadata": {
  "language_info": {
   "codemirror_mode": {
    "name": "ipython",
    "version": 3
   },
   "file_extension": ".py",
   "mimetype": "text/x-python",
   "name": "python",
   "nbconvert_exporter": "python",
   "pygments_lexer": "ipython3",
   "version": "3.7.4-final"
  },
  "orig_nbformat": 2,
  "kernelspec": {
   "name": "python3",
   "display_name": "Python 3"
  }
 },
 "nbformat": 4,
 "nbformat_minor": 2
}