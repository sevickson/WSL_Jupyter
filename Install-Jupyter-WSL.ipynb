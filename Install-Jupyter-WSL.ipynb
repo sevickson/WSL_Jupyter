{
 "cells": [
  {
   "cell_type": "markdown",
   "metadata": {},
   "source": [
    "# Windows Subsystem for Linux (WSL) lab🧪 for near-simultaneous🔁 Jupyter Notebook📓 development\n",
    "<img src=\"https://www.game-experience.nl/wp-content/uploads/2018/04/Windows-10-logo-300x300.png\" alt=\"Windows\" width=\"40\" height=\"40\"> <img src=\"https://upload.wikimedia.org/wikipedia/commons/3/35/Tux.svg\" alt=\"Linux\" width=\"40\" height=\"40\"> <img src=\"https://jupyter.org/assets/main-logo.svg\" alt=\"Jupyter\" width=\"40\" height=\"40\">\n",
    "------\n",
    "\n",
    "* **Author:** Sevickson Kwidama \n",
    "    * [Twitter](https://twitter.com/SKwid345)\n",
    "    * [LinkedIn](https://nl.linkedin.com/in/sevickson)\n",
    "    * [GitHub Repo](https://github.com/sevickson/wsl_jupyter)\n",
    "* **Version:** 1.0\n",
    "\n",
    "This Jupyter Notebook gives you the possibility to very easily setup a WSL lab for developing cross-platform Notebooks.  \n",
    "This is quite useful when you have a Notebook that has some CLI commands and you would like to check if those commands work on Windows and different Linux variants.\n",
    "\n",
    "I use this Notebook in Visual Studio Code but it can also be used in Jupyter Lab without any issues.  \n",
    "The reason it is near-simultaneous is because normally changes to textfiles or like .py files are immediately visible in the other instance of Visual Code when you use the `File -> Auto Save` function.   \n",
    "Probably because a .ipynb Notebook is actually a JSON file that later is generated to become the Jupyter Notebook, the file needs to be reloaded, closed/opened, to see the changes."
   ]
  },
  {
   "cell_type": "markdown",
   "metadata": {},
   "source": [
    "## Load Functions and Imports *(Run Once)*\n",
    "To be certain, I always start with an upgrade check of `pip`.  \n",
    "And get the needed dependencies, if any, this only needs to be run once.  \n",
    "\n",
    "On some systems *Python* can be called by using `python3` or `python`, this is the reason for the extra `which` check below.  \n",
    "In `Requirements.txt` I put all the initial modules that need to be installed by `pip` for this Notebook."
   ]
  },
  {
   "cell_type": "code",
   "execution_count": null,
   "metadata": {
    "tags": []
   },
   "outputs": [],
   "source": [
    "import shutil\n",
    "if shutil.which(\"python3\") is None:\n",
    "    !python -m pip install --upgrade --user pip\n",
    "    !python -m pip install --upgrade --user -r REQ\\\\Requirements.txt \n",
    "else:\n",
    "    !python3 -m pip install --upgrade --user pip\n",
    "    !python3 -m pip install --upgrade --user -r REQ\\\\Requirements.txt "
   ]
  },
  {
   "cell_type": "markdown",
   "metadata": {},
   "source": [
    "I put most of the Functions in a separate Notebook to make this original one shorter and more readable.  \n",
    "By using `%run` I can import all the Functions and variables from the other Notebook in this one."
   ]
  },
  {
   "cell_type": "code",
   "execution_count": null,
   "metadata": {},
   "outputs": [],
   "source": [
    "%run REQ\\\\Imports_Functions.ipynb"
   ]
  },
  {
   "cell_type": "markdown",
   "metadata": {},
   "source": [
    "## Install WSL *(Run Once)*\n",
    "**BEWARE**: Below cells need to be run with Administrator priviledges. This can be done in Windows by opening the Notebook as Adminstrator.  \n",
    "\n",
    "The cell below checks first if you are an Administrator, if you are it will run the needed steps to install WSL.  \n",
    "If you are running Windows Build >= 19041 it will automatically also install WSL2.  \n",
    "After WSL is installed a restart is needed before going forward."
   ]
  },
  {
   "cell_type": "code",
   "execution_count": null,
   "metadata": {
    "tags": []
   },
   "outputs": [],
   "source": [
    "install_wsl()"
   ]
  },
  {
   "cell_type": "markdown",
   "metadata": {},
   "source": [
    "If you get following message at the end: \n",
    "```\n",
    "WSL 2 requires an update to its kernel component. For information please visit https://aka.ms/wsl2kernel\n",
    "```\n",
    "Please run the code below, when finished error should dissapear."
   ]
  },
  {
   "cell_type": "code",
   "execution_count": null,
   "metadata": {
    "tags": []
   },
   "outputs": [],
   "source": [
    "update_wsl2()"
   ]
  },
  {
   "cell_type": "markdown",
   "metadata": {},
   "source": [
    "## Install Linux Distributions\n",
    "After installing WSL you can finally get to the more interesting parts, installation and use of Linux distributions.  \n",
    "\n",
    "In this Notebook I only have *Ubuntu* and *Debian* as choices, as they are the most used distributions.  \n",
    "If you need another distribution you can find the complete list in the [Windows Store] (https://aka.ms/wslstore) and direct links for setting in `REQ\\WSL_VMs.csv` can be found [here](https://docs.microsoft.com/en-us/windows/wsl/install-manual).\n",
    "\n",
    "If you already downloaded and installed the distribution in the past you only need to register. The check is done automatically below and if distribution is already available it will install it instead of downloading it again.\n",
    "To make sure you have the latest versions you will need to update it through the Windows Store on your own system."
   ]
  },
  {
   "cell_type": "code",
   "execution_count": null,
   "metadata": {},
   "outputs": [],
   "source": [
    "@interact_manual\n",
    "def get_WSL_VM(Distro=list(wsl_df.Name)):\n",
    "    add_distro(Distro)"
   ]
  },
  {
   "cell_type": "markdown",
   "metadata": {},
   "source": [
    "**BEWARE**: After running commands above the commands below can be run in a normal Jupyter Notebook.  \n",
    "Below command is just to check which distributions are installed at the moment."
   ]
  },
  {
   "cell_type": "code",
   "execution_count": null,
   "metadata": {
    "tags": []
   },
   "outputs": [],
   "source": [
    "!wsl --list --verbose"
   ]
  },
  {
   "cell_type": "markdown",
   "metadata": {},
   "source": [
    "Based on the distributions installed below is a dropdown to choose which distribution will be used for the subsequent commands, following 2 cells are the dropdown and setting the distribution name in the variable `VM_Name`."
   ]
  },
  {
   "cell_type": "code",
   "execution_count": null,
   "metadata": {},
   "outputs": [],
   "source": [
    "distro_dd = interactive(get_installed, Distro=installed_distro())\n",
    "display(distro_dd)"
   ]
  },
  {
   "cell_type": "code",
   "execution_count": null,
   "metadata": {},
   "outputs": [],
   "source": [
    "VM_Name = distro_dd.result\n",
    "VM_Name"
   ]
  },
  {
   "cell_type": "markdown",
   "metadata": {},
   "source": [
    "### Setting the username and password used for the Linux distribution\n",
    "`getpass` shows a pop-up window to set the password.  \n",
    "The username and password set in the variables are used to create the user account in the Linux distribution."
   ]
  },
  {
   "cell_type": "code",
   "execution_count": null,
   "metadata": {},
   "outputs": [],
   "source": [
    "username = 'user_jupyter'\n",
    "password = getpass.getpass()"
   ]
  },
  {
   "cell_type": "markdown",
   "metadata": {},
   "source": [
    "## Configure Distribution\n",
    "First always run updates and install needed packages like `sudo` and `openssl` to be able to create the user account. "
   ]
  },
  {
   "cell_type": "code",
   "execution_count": null,
   "metadata": {
    "tags": []
   },
   "outputs": [],
   "source": [
    "install_update_packages(VM_Name)"
   ]
  },
  {
   "cell_type": "markdown",
   "metadata": {},
   "source": [
    "Create user account based on the `username` and `password` set above. After this you can just use this to login to the distribution."
   ]
  },
  {
   "cell_type": "code",
   "execution_count": null,
   "metadata": {},
   "outputs": [],
   "source": [
    "create_user(VM_Name)"
   ]
  },
  {
   "cell_type": "markdown",
   "metadata": {},
   "source": [
    "To be able to make this Jupyter lab work, Jupyter and all it's dependencies need to be installed.  "
   ]
  },
  {
   "cell_type": "code",
   "execution_count": null,
   "metadata": {
    "tags": []
   },
   "outputs": [],
   "source": [
    "install_jupyter(VM_Name)"
   ]
  },
  {
   "cell_type": "markdown",
   "metadata": {},
   "source": [
    "Below is just a quick check to see if everything has been installed correctly.  \n",
    "If everything is OK all commands will have a version number."
   ]
  },
  {
   "cell_type": "code",
   "execution_count": null,
   "metadata": {
    "tags": []
   },
   "outputs": [],
   "source": [
    "!wsl -d {VM_Name} python3 --version\n",
    "!wsl -d {VM_Name} pip3 --version\n",
    "!wsl -d {VM_Name} jupyter --version"
   ]
  },
  {
   "cell_type": "markdown",
   "metadata": {},
   "source": [
    "### Visual Basic Code\n",
    "Setting this line of code in other Jupyter Notebooks you can easily start the Visual Basic in WSL pointing to the directory the Notebook is in.  \n",
    "You will only need to set the `{VM_Name}` if you are using in another Notebook."
   ]
  },
  {
   "cell_type": "code",
   "execution_count": null,
   "metadata": {
    "tags": []
   },
   "outputs": [],
   "source": [
    "!wsl -d {VM_Name} code ."
   ]
  },
  {
   "cell_type": "markdown",
   "metadata": {},
   "source": [
    "Install **Python** extensions through \"Extensions\" and reload the Visual Basic Code in WSL.    \n",
    "Now if you want to open an .ipynb it will ask for an interpreter, if you set the Python interpreter in your Linux environment you will be able to use it. "
   ]
  },
  {
   "cell_type": "markdown",
   "metadata": {},
   "source": [
    "### Jupyter Lab\n",
    "If you want to run plain Jupyter Lab you can use the command below in a command line.  \n",
    "You will need to change the `{VM_Name}` to the variable of the Linux distribution installed.\n",
    "```\n",
    "wsl -d {VM_Name} jupyter lab\n",
    "```\n"
   ]
  },
  {
   "cell_type": "markdown",
   "metadata": {},
   "source": [
    "## Uninstall Linux Distributions\n",
    "When you uninstall/unregister the distribution it will not completely remove it.  \n",
    "The benefit of this is that it makes it re-install easier, just run the **Install Linux Distributions** step."
   ]
  },
  {
   "cell_type": "code",
   "execution_count": null,
   "metadata": {},
   "outputs": [],
   "source": [
    "distro_dd_unr = interactive(get_installed, Distro=installed_distro())\n",
    "display(distro_dd_unr)"
   ]
  },
  {
   "cell_type": "code",
   "execution_count": null,
   "metadata": {
    "tags": []
   },
   "outputs": [],
   "source": [
    "VM_Name_unr = distro_dd_unr.result\n",
    "!wsl --unregister {VM_Name_unr}"
   ]
  },
  {
   "cell_type": "markdown",
   "metadata": {},
   "source": [
    "References:\n",
    "- https://docs.microsoft.com/en-us/windows/wsl/install-win10  \n",
    "- https://medium.com/@harshityadav95/jupyter-notebook-in-windows-subsystem-for-linux-wsl-8b46fdf0a536  \n",
    "- https://medium.com/@sayanghosh_49221/jupyter-notebook-in-windows-subsystem-for-linux-wsl-f075f7ec8691\n",
    "- https://stackoverflow.com/questions/44996933/using-sudo-inside-jupyter-notebooks-cell  \n",
    "- https://github.com/microsoft/WSL/issues/3284  \n",
    "- https://docs.microsoft.com/en-us/windows/wsl/install-win10#update-to-wsl-2\n",
    "- https://docs.microsoft.com/en-us/windows/wsl/install-manual\n",
    "- https://www.tenforums.com/tutorials/128052-add-user-windows-subsystem-linux-wsl-distro-windows-10-a.html\n",
    "- https://stackoverflow.com/questions/2150882/how-to-automatically-add-user-account-and-password-with-a-bash-script\n",
    "- https://stackoverflow.com/questions/38883476/how-to-remove-those-x00-x00\n",
    "- https://ipywidgets.readthedocs.io/en/latest/examples/Using%20Interact.html#interactive\n"
   ]
  }
 ],
 "metadata": {
  "kernelspec": {
   "display_name": "Python 3",
   "language": "python",
   "name": "python3"
  },
  "language_info": {
   "codemirror_mode": {
    "name": "ipython",
    "version": 3
   },
   "file_extension": ".py",
   "mimetype": "text/x-python",
   "name": "python",
   "nbconvert_exporter": "python",
   "pygments_lexer": "ipython3",
   "version": "3.7.4-final"
  }
 },
 "nbformat": 4,
 "nbformat_minor": 2
}