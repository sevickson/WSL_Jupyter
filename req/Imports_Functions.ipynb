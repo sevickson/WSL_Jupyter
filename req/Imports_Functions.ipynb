{
 "cells": [
  {
   "cell_type": "code",
   "execution_count": null,
   "metadata": {},
   "outputs": [],
   "source": [
    "import platform, ctypes, os, requests, shutil, getpass\n",
    "import pandas as pd\n",
    "from ipywidgets import interactive, interact_manual"
   ]
  },
  {
   "cell_type": "code",
   "execution_count": null,
   "metadata": {},
   "outputs": [],
   "source": [
    "#Get Windows build installed to later use for the WSL2 check\n",
    "winver = platform.version().split('.')[2]\n",
    "winbuild = int(winver)"
   ]
  },
  {
   "cell_type": "code",
   "execution_count": null,
   "metadata": {},
   "outputs": [],
   "source": [
    "#Function to check if user is Administrator, this is needed for the WSL installation\n",
    "def isAdmin():\n",
    "    try:\n",
    "        is_admin = (os.getuid() == 0)\n",
    "    except AttributeError:\n",
    "        is_admin = ctypes.windll.shell32.IsUserAnAdmin() != 0\n",
    "    return is_admin"
   ]
  },
  {
   "cell_type": "code",
   "execution_count": null,
   "metadata": {},
   "outputs": [],
   "source": [
    "def install_wsl():\n",
    "    if isAdmin():\n",
    "        print(\"Please restart your system after installation is finished, before going forward.\")\n",
    "        #Installation of WSL1 using DISM.\n",
    "        !dism.exe /online /enable-feature /featurename:Microsoft-Windows-Subsystem-Linux /all /norestart\n",
    "        if winbuild >= 19041:\n",
    "            #If you have higher build number you can update immediately to WSL2, hereafter restart\n",
    "            !dism.exe /online /enable-feature /featurename:VirtualMachinePlatform /all /norestart\n",
    "            #Set WSL2 as your default version\n",
    "            !wsl --set-default-version 2\n",
    "    else:\n",
    "        print(\"You need to run \\'install_wsl\\' as Administrator. Please re-open this Jupyter Notebook as Administrator for this part.\")"
   ]
  },
  {
   "cell_type": "code",
   "execution_count": null,
   "metadata": {},
   "outputs": [],
   "source": [
    "def update_wsl2():\n",
    "    if isAdmin():\n",
    "        #Download and install the WSL2 update, file will be saved in the same location as the Notebook and than executed\n",
    "        url = 'https://wslstorestorage.blob.core.windows.net/wslblob/wsl_update_x64.msi'\n",
    "        location = %pwd\n",
    "        if url.find('/'):\n",
    "            fname = url.rsplit('/', 1)[1]\n",
    "        flocation = location + '\\\\' + fname\n",
    "        if os.path.isfile(flocation):\n",
    "            print(\"WSL2 Update file already downloaded\")\n",
    "        else:\n",
    "            print(\"Location to save file:\", location)\n",
    "            with requests.get(url, stream=True) as r:\n",
    "                with open(flocation, 'wb') as f:\n",
    "                    shutil.copyfileobj(r.raw, f)\n",
    "\n",
    "        !msiexec /i $flocation /qn \n",
    "        !wsl --set-default-version 2\n",
    "    else:\n",
    "        print(\"You need to run \\'update_wsl2\\' as Administrator. Please re-open this Jupyter Notebook as Administrator for this part.\")"
   ]
  },
  {
   "cell_type": "code",
   "execution_count": null,
   "metadata": {},
   "outputs": [],
   "source": [
    "#Put the CSV with the Linux distributions and URLs in a DataFrame\n",
    "wsl_df = pd.read_csv('req\\\\WSL_VMs.csv') "
   ]
  },
  {
   "cell_type": "code",
   "execution_count": null,
   "metadata": {},
   "outputs": [],
   "source": [
    "def add_distro(distro):\n",
    "    try:\n",
    "        #Try installing the distro as this might have been installed in the passed already, which makes it faster than downloading\n",
    "        !{distro} install --root\n",
    "        print(distro, \"was already available and now installed.\")\n",
    "    except:\n",
    "        #If Linux distribution has not been installed in the passed, download and install it\n",
    "        print(\"Trying to install\", distro)\n",
    "        fname = distro + '.appx'\n",
    "        location = %pwd\n",
    "        flocation = location + '\\\\' + fname\n",
    "        if os.path.isfile(flocation):\n",
    "            print(\"WSL VM file already downloaded\")\n",
    "        else:\n",
    "            url = wsl_df.URL[(wsl_df.Name == distro)].values\n",
    "            url = ''.join(url)\n",
    "\n",
    "            print(\"Location to save file:\", location)\n",
    "            with requests.get(url, stream=True) as r:\n",
    "                with open(flocation, 'wb') as f:\n",
    "                    shutil.copyfileobj(r.raw, f)\n",
    "\n",
    "        !powershell \"Add-AppxPackage -Path '{flocation}' -Verbose\"\n",
    "        print(\"Done\")"
   ]
  },
  {
   "cell_type": "code",
   "execution_count": null,
   "metadata": {},
   "outputs": [],
   "source": [
    "def installed_distro():\n",
    "    #Create a list of installed Linux distributions\n",
    "    distro_lst = !wsl --list -q\n",
    "    #Remove NULL and empty strings from the list\n",
    "    distro_lst = [d.replace('\\x00', '') for d in distro_lst]\n",
    "    distro_lst = list(filter(None, distro_lst))\n",
    "    return(distro_lst)"
   ]
  },
  {
   "cell_type": "code",
   "execution_count": null,
   "metadata": {},
   "outputs": [],
   "source": [
    "def get_installed(Distro):\n",
    "    #Just a small function to be used to return the distibution chosen in the `interactive`\n",
    "    return(Distro)"
   ]
  },
  {
   "cell_type": "code",
   "execution_count": null,
   "metadata": {},
   "outputs": [],
   "source": [
    "def install_update_packages(VM_Name):\n",
    "    #Update and upgrade distribution\n",
    "    !wsl -d {VM_Name} apt-get update\n",
    "    !wsl -d {VM_Name} apt-get -y upgrade\n",
    "    #These packages are needed for the Debian distribution, they are not installed in the base image\n",
    "    !wsl -d {VM_Name} apt-get install -y openssl sudo wget"
   ]
  },
  {
   "cell_type": "code",
   "execution_count": null,
   "metadata": {},
   "outputs": [],
   "source": [
    "def create_user(VM_Name):\n",
    "    #Create user with given password\n",
    "    !wsl -d {VM_Name} useradd -m -p $(openssl passwd -1 {password}) -s /bin/bash {username}\n",
    "    #Add user to sudoers\n",
    "    !wsl -d {VM_Name} usermod -aG sudo {username}\n",
    "    #Change default user to new created user\n",
    "    !{VM_Name} config --default-user {username}"
   ]
  },
  {
   "cell_type": "code",
   "execution_count": null,
   "metadata": {},
   "outputs": [],
   "source": [
    "def install_jupyter(VM_Name):\n",
    "    #Install Python3\n",
    "    !wsl -d {VM_Name} echo {password} ^| sudo -S apt-get install -y python3 python3-pip \n",
    "    #Install Jupyter system-wide otherwise install without sudo but than you need to put the install location in PATH\n",
    "    !wsl -d {VM_Name} echo {password} ^| sudo -S python3 -m pip install jupyter jupyterlab ipython\n",
    "    #Used to fix an issue with dependency `prompt_toolkit` (Debian)\n",
    "    !wsl -d {VM_Name} python3 -m pip install --user --upgrade ipython"
   ]
  },
  {
   "cell_type": "markdown",
   "metadata": {},
   "source": [
    "References:\n",
    "- https://raccoon.ninja/en/dev/using-python-to-check-if-the-application-is-running-as-an-administrator/\n",
    "- https://stackoverflow.com/questions/16694907/download-large-file-in-python-with-requests"
   ]
  },
 ],
 "metadata": {
  "language_info": {
   "codemirror_mode": {
    "name": "ipython",
    "version": 3
   },
   "file_extension": ".py",
   "mimetype": "text/x-python",
   "name": "python",
   "nbconvert_exporter": "python",
   "pygments_lexer": "ipython3",
   "version": "3.7.4-final"
  },
  "orig_nbformat": 2,
  "kernelspec": {
   "name": "python3",
   "display_name": "Python 3"
  }
 },
 "nbformat": 4,
 "nbformat_minor": 2
}
