{
 "cells": [
  {
   "cell_type": "code",
   "execution_count": 1,
   "metadata": {},
   "outputs": [],
   "source": [
    "import platform, ctypes, os, requests, shutil\n",
    "import pandas as pd\n",
    "import numpy as np\n",
    "import getpass\n",
    "from ipywidgets import interact, interact_manual\n",
    "import shutil"
   ]
  },
  {
   "cell_type": "code",
   "execution_count": null,
   "metadata": {},
   "outputs": [],
   "source": [
    "winver = platform.version().split('.')[2]\n",
    "winbuild = int(winver)"
   ]
  },
  {
   "cell_type": "code",
   "execution_count": null,
   "metadata": {},
   "outputs": [],
   "source": [
    "def isAdmin():\n",
    "    try:\n",
    "        is_admin = (os.getuid() == 0)\n",
    "    except AttributeError:\n",
    "        is_admin = ctypes.windll.shell32.IsUserAnAdmin() != 0\n",
    "    return is_admin"
   ]
  },
  {
   "cell_type": "code",
   "execution_count": null,
   "metadata": {},
   "outputs": [],
   "source": [
    "def install_wsl():\n",
    "    if isAdmin():\n",
    "        print(\"Please restart your system after installation is finished, before going forward.\")\n",
    "        !dism.exe /online /enable-feature /featurename:Microsoft-Windows-Subsystem-Linux /all /norestart\n",
    "        if winbuild >= 19041:\n",
    "            #If you have higher version you can update immediately hereafter restart\n",
    "            !dism.exe /online /enable-feature /featurename:VirtualMachinePlatform /all /norestart\n",
    "            #Set WSL 2 as your default version\n",
    "            !wsl --set-default-version 2\n",
    "    else:\n",
    "        print(\"You need to run \\'install_wsl\\' as Administrator. Please re-open this Jupyter Notebook as Administrator for this part.\")"
   ]
  },
  {
   "cell_type": "code",
   "execution_count": null,
   "metadata": {},
   "outputs": [],
   "source": [
    "def update_wsl2():\n",
    "    if isAdmin():\n",
    "        url = 'https://wslstorestorage.blob.core.windows.net/wslblob/wsl_update_x64.msi'\n",
    "        location = %pwd\n",
    "        if url.find('/'):\n",
    "            fname = url.rsplit('/', 1)[1]\n",
    "        flocation = location + '\\\\' + fname\n",
    "        if os.path.isfile(flocation):\n",
    "            print(\"WSL2 Update file already downloaded\")\n",
    "        else:\n",
    "            print(\"Location to save file:\", location)\n",
    "            with requests.get(url, stream=True) as r:\n",
    "                with open(flocation, 'wb') as f:\n",
    "                    shutil.copyfileobj(r.raw, f)\n",
    "\n",
    "        !msiexec /i $flocation /qn #fname\n",
    "        !wsl --set-default-version 2\n",
    "    else:\n",
    "        print(\"You need to run \\'update_wsl2\\' as Administrator. Please re-open this Jupyter Notebook as Administrator for this part.\")"
   ]
  },
  {
   "cell_type": "code",
   "execution_count": 28,
   "metadata": {},
   "outputs": [
    {
     "output_type": "execute_result",
     "data": {
      "text/plain": "array(['https://aka.ms/wslubuntu2004',\n       'https://aka.ms/wsl-debian-gnulinux',\n       'https://aka.ms/wsl-kali-linux-new'], dtype=object)"
     },
     "metadata": {},
     "execution_count": 28
    }
   ],
   "source": [
    "wsl_df = pd.read_csv('req\\\\WSL_VMs.csv') "
   ]
  },
  {
   "cell_type": "code",
   "execution_count": 20,
   "metadata": {},
   "outputs": [],
   "source": [
    "#maybe add (Get-AppxPackage -Name *ubuntu*).Version\n",
    "def add_distro(distro):\n",
    "    print(\"Trying to install\", distro)\n",
    "    fname = distro + '.appx'\n",
    "    location = %pwd\n",
    "    flocation = location + '\\\\' + fname\n",
    "    if os.path.isfile(flocation):\n",
    "        print(\"WSL VM file already downloaded\")\n",
    "    else:\n",
    "        url = wsl_df.URL[(wsl_df.OS == distro)].values\n",
    "        url = np.array_str(url)[2:-2]\n",
    "\n",
    "        print(\"Location to save file:\", location)\n",
    "        with requests.get(url, stream=True) as r:\n",
    "            with open(flocation, 'wb') as f:\n",
    "                shutil.copyfileobj(r.raw, f)\n",
    "\n",
    "    !powershell \"Add-AppxPackage -Path '{flocation}' -Verbose\"\n",
    "    print(\"Done\")"
   ]
  },
  {
   "cell_type": "markdown",
   "metadata": {},
   "source": [
    "https://raccoon.ninja/en/dev/using-python-to-check-if-the-application-is-running-as-an-administrator/\n",
    "\n",
    "https://stackoverflow.com/questions/16694907/download-large-file-in-python-with-requests"
   ]
  },
  {
   "cell_type": "code",
   "execution_count": null,
   "metadata": {},
   "outputs": [],
   "source": []
  }
 ],
 "metadata": {
  "language_info": {
   "codemirror_mode": {
    "name": "ipython",
    "version": 3
   },
   "file_extension": ".py",
   "mimetype": "text/x-python",
   "name": "python",
   "nbconvert_exporter": "python",
   "pygments_lexer": "ipython3",
   "version": "3.7.4-final"
  },
  "orig_nbformat": 2,
  "kernelspec": {
   "name": "python3",
   "display_name": "Python 3"
  }
 },
 "nbformat": 4,
 "nbformat_minor": 2
}