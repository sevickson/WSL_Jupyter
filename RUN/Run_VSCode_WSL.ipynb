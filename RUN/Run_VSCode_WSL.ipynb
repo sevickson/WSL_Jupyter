{
 "cells": [
  {
   "cell_type": "markdown",
   "metadata": {},
   "source": [
    "## Running Visual Studio Code in WSL\n",
    "Copy the following cells to the beginning of your Jupyter Notebook to easily call the Visual Studio Code installed in the WSL Linux distribution."
   ]
  },
  {
   "cell_type": "code",
   "execution_count": 1,
   "metadata": {},
   "outputs": [],
   "source": [
    "%run Minimal_Imports_Functions.ipynb"
   ]
  },
  {
   "cell_type": "code",
   "execution_count": 2,
   "metadata": {},
   "outputs": [
    {
     "output_type": "display_data",
     "data": {
      "text/plain": "interactive(children=(Dropdown(description='Distro', options=('Ubuntu',), value='Ubuntu'), Output()), _dom_cla…",
      "application/vnd.jupyter.widget-view+json": {
       "version_major": 2,
       "version_minor": 0,
       "model_id": "bb99158afb3845caa889be29d66b63ae"
      }
     },
     "metadata": {}
    }
   ],
   "source": [
    "display(distro_dd)"
   ]
  },
  {
   "cell_type": "code",
   "execution_count": 3,
   "metadata": {
    "tags": []
   },
   "outputs": [
    {
     "output_type": "stream",
     "name": "stdout",
     "text": "Using: Ubuntu distribution\n"
    }
   ],
   "source": [
    "VM_Name = distro_dd.result\n",
    "print(\"Using:\",VM_Name, \"distribution\")"
   ]
  },
  {
   "cell_type": "code",
   "execution_count": 4,
   "metadata": {
    "tags": []
   },
   "outputs": [],
   "source": [
    "!wsl -d {VM_Name} code ."
   ]
  },
  {
   "cell_type": "markdown",
   "metadata": {},
   "source": [
    "If you need `sudo` in the WSL environent you can set the variables here so you can use them further down in the Jupyter Notebook.  \n",
    "Example usage: `!wsl -d {VM_Name} echo {password} ^| sudo -S apt-get install -y python3`"
   ]
  },
  {
   "cell_type": "code",
   "execution_count": null,
   "metadata": {},
   "outputs": [],
   "source": [
    "username = 'user_jupyter'\n",
    "password = getpass.getpass()"
   ]
  }
 ],
 "metadata": {
  "language_info": {
   "codemirror_mode": {
    "name": "ipython",
    "version": 3
   },
   "file_extension": ".py",
   "mimetype": "text/x-python",
   "name": "python",
   "nbconvert_exporter": "python",
   "pygments_lexer": "ipython3",
   "version": "3.7.4-final"
  },
  "orig_nbformat": 2,
  "kernelspec": {
   "name": "python3",
   "display_name": "Python 3"
  }
 },
 "nbformat": 4,
 "nbformat_minor": 2
}