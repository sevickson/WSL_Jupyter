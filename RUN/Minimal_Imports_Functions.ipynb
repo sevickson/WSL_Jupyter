{
 "cells": [
  {
   "cell_type": "code",
   "execution_count": null,
   "metadata": {},
   "outputs": [],
   "source": [
    "from ipywidgets import interactive\n",
    "import getpass"
   ]
  },
  {
   "cell_type": "code",
   "execution_count": null,
   "metadata": {},
   "outputs": [],
   "source": [
    "def installed_distro():\n",
    "    #Create a list of installed Linux distributions\n",
    "    distro_lst = !wsl --list -q\n",
    "    #Remove NULL and empty strings from the list\n",
    "    distro_lst = [d.replace('\\x00', '') for d in distro_lst]\n",
    "    distro_lst = list(filter(None, distro_lst))\n",
    "    return(distro_lst)"
   ]
  },
  {
   "cell_type": "code",
   "execution_count": null,
   "metadata": {},
   "outputs": [],
   "source": [
    "def get_installed(Distro):\n",
    "    #Just a small function to be used to return the distibution chosen in the `interactive`\n",
    "    return(Distro)"
   ]
  },
  {
   "cell_type": "code",
   "execution_count": null,
   "metadata": {},
   "outputs": [],
   "source": [
    "distro_dd = interactive(get_installed, Distro=installed_distro())"
   ]
  }
 ],
 "metadata": {
  "language_info": {
   "codemirror_mode": {
    "name": "ipython",
    "version": 3
   },
   "file_extension": ".py",
   "mimetype": "text/x-python",
   "name": "python",
   "nbconvert_exporter": "python",
   "pygments_lexer": "ipython3",
   "version": 3
  },
  "orig_nbformat": 2
 },
 "nbformat": 4,
 "nbformat_minor": 2
}